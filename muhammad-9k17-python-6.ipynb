{
 "cells": [
  {
   "cell_type": "markdown",
   "metadata": {},
   "source": [
    "# Tugas Python 6\n",
    "\n",
    "* Silakan download dan kerjakan soal berikut dimanapun (laptop pribadi/google colab/etc.)\n",
    "* Setelah selesai mengerjakan, upload file ini di tempat yang telah disediakan pada platform.\n",
    "* Beri nama file seperti berikut: {username}-python-6.ipynb\n",
    "* Contoh: johndoe1-python-6.ipynb\n",
    "* Username dapat dilihat di dalam akun anda.\n",
    "* Mohon jangan mengubah nama variabel yang telah diberikan.\n",
    "* Namun anda diperbolehkan untuk menambah variabel apapun.\n",
    "---"
   ]
  },
  {
   "cell_type": "markdown",
   "metadata": {},
   "source": [
    "1. Buatlah _class_ `RegularPolygon` yang memiliki atribut `no_of_sides` dan `side_length`. `no_of_sides` adalah _integer_ yang menyatakan banyak sisi yang dimiliki poligon dan `side_length` adalah panjang dari sisi poligon. Objek yang dibentuk oleh _class_ ini adalah poligon sama sisi.\\\n",
    "Buat _method_ pada `RegularPolygon` sebagai berikut:\n",
    "    * `perimeter` menghitung keliling poligon. \n",
    "    * `interior_angle` menghitung besar sudut interior poligon, yaitu $interior\\,angle = (n-2)\\times 180/n$ (dalam derajat)\n",
    "    * `exterior_angle` menghitung besar sudut eksterior poligon, yaitu $exterior\\,angle = 360/n$ (dalam derajat)\n",
    "    \n",
    "    ($n$ pada keterangan rumus adalah banyak sisi yang dimiliki poligon. Keterangan lebih lanjut mengenai sudut interior dan eksterior dapat dilihat [disini](https://www.mathsisfun.com/geometry/regular-polygons.html)).\n",
    "    \n",
    "**Pada variabel jawaban_1, isi dengan _tuple_ dengan elemen berturut-turut adalah keliling, sudut interior, dan sudut eksterior dari segi-12 dengan panjang sisi 5, yaitu _tuple_ `(keliling, sudut interior, sudut exterior)`.**\\\n",
    "Expected result = `(60,150,30)`"
   ]
  },
  {
   "cell_type": "code",
   "execution_count": 1,
   "metadata": {},
   "outputs": [
    {
     "name": "stdout",
     "output_type": "stream",
     "text": [
      "(60, 150, 30)\n"
     ]
    }
   ],
   "source": [
    "#lengkapi kode di bawah ini\n",
    "class RegularPolygon:\n",
    "    def __init__(self, no_of_sides, side_length):\n",
    "        self.no_of_sides = no_of_sides\n",
    "        self.side_length = side_length\n",
    "        \n",
    "    def perimeter(self):\n",
    "        return self.no_of_sides * self.side_length\n",
    "    \n",
    "    def interior_angle(self):\n",
    "        return round(((self.no_of_sides - 2) * 180/self.no_of_sides))\n",
    "    \n",
    "    def exterior_angle(self):\n",
    "        return round(360/self.no_of_sides)\n",
    "\n",
    "segi_12 = RegularPolygon(12,5)\n",
    "\n",
    "keliling = segi_12.perimeter()\n",
    "sudut_int = segi_12.interior_angle()\n",
    "sudut_ext = segi_12.exterior_angle()\n",
    "\n",
    "jawaban_1 = (keliling, sudut_int, sudut_ext)\n",
    "print(jawaban_1)"
   ]
  },
  {
   "cell_type": "markdown",
   "metadata": {},
   "source": [
    "2. Buatlah _class_ `Square` (persegi/bujursangkar) yang memiliki satu atribut, `side` (panjang sisi). `Square` memiliki _method_ :\n",
    "* `area` : menghitung luas persegi.\n",
    "* `perimeter` : menghitung keliling persegi.\n",
    "\n",
    "Buatlah juga _class_ `SquarePyramid` yang _inherit_ dari `Square`. Tambahkan juga atribut `height` (tinggi).\\\n",
    "Buat _method_ :\n",
    "* `volume` : menghitung volume limas persegi. Volume limas adalah $V = \\frac{1}{3}(luas\\,alas)(tinggi)$\n",
    "* `slant_length` : menghitung tinggi sisi tegak limas. Perhitungan `slant_length` dapat dilakukan dengan rumus:\n",
    "$slant\\,length = \\sqrt{(\\frac{sisi\\,alas}{2})^2+(tinggi)^2}$\n",
    "* `surface_area` : menghitung luas permukaan limas persegi. Luas permukaan limas dapat dihitung dengan rumus $L = luas\\,alas + \\frac{1}{2}(keliling\\,alas)(slant\\,length)$.\n",
    "\n",
    "**Pada variabel jawaban_2, isi dengan _tuple_ dengan elemen berturut-turut adalah volume dan luas permukaan dari limas persegi dengan panjang sisi alas 10 dan tinggi limas 12, yaitu _tuple_ `(volume, luas permukaan)`.**\\\n",
    "Expected result = `(400,360)`"
   ]
  },
  {
   "cell_type": "code",
   "execution_count": 2,
   "metadata": {},
   "outputs": [
    {
     "name": "stdout",
     "output_type": "stream",
     "text": [
      "(400, 360)\n"
     ]
    }
   ],
   "source": [
    "#lengkapi kode di bawah ini\n",
    "class Square:\n",
    "    def __init__(self, side):\n",
    "        self.side = side\n",
    "        \n",
    "    def area(self):\n",
    "        return self.side**2\n",
    "    \n",
    "    def perimeter(self):\n",
    "        return 4 * self.side\n",
    "\n",
    "class SquarePyramid(Square):\n",
    "    def __init__(self, side, height):\n",
    "        super().__init__(side)\n",
    "        self.height = height\n",
    "    \n",
    "    def volume(self):\n",
    "        return round((Square.area(self) * self.height)/3)\n",
    "    \n",
    "    def slant_length(self):\n",
    "        return round((((Square.area(self))/4)+(self.height**2))**0.5)\n",
    "    \n",
    "    def surface_area(self):\n",
    "        return round(Square.area(self) + (Square.perimeter(self)*self.slant_length())/2)\n",
    "\n",
    "pyramid = SquarePyramid(10,12)\n",
    "jawaban_2 = (pyramid.volume(),pyramid.surface_area())\n",
    "print(jawaban_2)"
   ]
  },
  {
   "cell_type": "markdown",
   "metadata": {},
   "source": [
    "3. Buatlah _class_ `Rekening` dengan atribut `saldo`, yaitu saldo yang dimiliki oleh rekening tersebut. Nilai awal/_default_ dari `saldo` adalah 0. `Rekening` memiliki tiga _method_:\n",
    "* `__str__` : menampilkan sisa saldo rekening.\n",
    "* `tarik` : menarik sejumlah uang dari saldo rekening sehingga saldo rekening berkurang. _Method_ ini mengembalikan nilai berupa sisa saldo setelah penarikan uang.\n",
    "* `deposit` : menambahkan sejumlah uang ke saldo rekening sehingga saldo rekening bertambah. _Method_ ini mengembalikan nilai berupa sisa saldo setelah uang ditambahkan.\n",
    "\n",
    "Buatlah juga _class_ `RekeningKhusus`, yaitu rekening yang mengharuskan pemegang rekening memiliki saldo minimum di dalam rekening tersebut. Pemegang rekening tidak bisa menarik uang jika setelah ditarik sisa saldo rekening tersebut di bawah minimum.\n",
    "* Buatlah `RekeningKhusus` yang _inherit_ dari `Rekening`, dan tambahkan atribut `saldo_minimum`.\n",
    "* _Override_ _method_ `tarik` sehingga jika sisa saldo setelah penarikan uang di bawah saldo minimum maka akan keluar pesan (**return string**) `'Saldo tidak boleh di bawah saldo minimum'`."
   ]
  },
  {
   "cell_type": "markdown",
   "metadata": {},
   "source": [
    "**Pertanyaan: Ica adalah pemegang rekening khusus dengan saldo minimum Rp20.000. Saldo awal Ica adalah Rp300.000. Kemudian ia menambahkan uang sebesar Rp50.000. Kemudian ia menarik uang Rp320.000 untuk belanja. Print nilai dari variabel jawaban_3 jika ia mencoba menarik lagi uangnya sebesar Rp 25.000.**\\\n",
    "Expected result: string `'Saldo tidak boleh di bawah saldo minimum'`"
   ]
  },
  {
   "cell_type": "code",
   "execution_count": 3,
   "metadata": {
    "scrolled": true
   },
   "outputs": [
    {
     "name": "stdout",
     "output_type": "stream",
     "text": [
      "Saldo tidak boleh di bawah saldo minimum\n"
     ]
    }
   ],
   "source": [
    "#lengkapi kode di bawah ini\n",
    "class Rekening:\n",
    "    def __init__(self, saldo=0):\n",
    "        self.saldo = saldo\n",
    "        \n",
    "    def __str__(self):\n",
    "        return f'Sisa saldo rekening adalah Rp.{self.saldo}'\n",
    "    \n",
    "    def tarik(self, tarik_tunai):\n",
    "        self.tarik_tunai = tarik_tunai\n",
    "        self.saldo -= self.tarik_tunai\n",
    "        return self.saldo\n",
    "    \n",
    "    def deposit(self, deposit_uang):\n",
    "        self.deposit_uang = deposit_uang\n",
    "        self.saldo += self.deposit_uang\n",
    "        return self.saldo\n",
    "\n",
    "class RekeningKhusus(Rekening):\n",
    "    def __init__(self, saldo, saldo_minimum):\n",
    "        super().__init__(saldo)\n",
    "        self.saldo_minimum = saldo_minimum\n",
    "        \n",
    "    def tarik(self, tarik_tunai):\n",
    "        self.tarik_tunai = tarik_tunai\n",
    "        self.saldo -= self.tarik_tunai\n",
    "        if self.saldo < self.saldo_minimum:\n",
    "            return 'Saldo tidak boleh di bawah saldo minimum'\n",
    "        else:\n",
    "            return self.saldo\n",
    "\n",
    "rek = RekeningKhusus(300000,20000)\n",
    "rek.deposit(50000)\n",
    "rek.tarik(320000)\n",
    "jawaban_3 = rek.tarik(25000)\n",
    "print(jawaban_3)"
   ]
  },
  {
   "cell_type": "markdown",
   "metadata": {},
   "source": [
    "4. Diketahui bakteri spesies A membelah diri menjadi dua individu setiap satu jam sekali. Sebuah laboratorium melakukan percobaan dengan bakteri A. Setiap tiga jam, 25% dari bakteri dimatikan. Contoh skema banyak bakteri A pada percobaan tersebut adalah sebagai berikut:\n",
    "- Misalkan mula-mula terdapat 100 bakteri.\n",
    "- Satu jam pertama, bakteri membelah diri sehingga sekarang menjadi 200 bakteri.\n",
    "- Satu jam berikutnya, bakteri membelah diri lagi sehingga menjadi 400 bakteri.\n",
    "- Satu jam berikutnya, bakteri membelah diri lagi menjadi 800 bakteri. Kemudian, 25% dari bakteri dimatikan. Sehingga, pada saat ini akan ada $800 - 25\\%(800) = 600$ bakteri.\n",
    "- Satu jam berikutnya, bakteri membelah diri lagi menjadi $600\\times 2 = 1200$ bakteri.\\\n",
    "Dan seterusnya.\n",
    "Buatlah _generator_ `bakteri(init,hour)` yang meng-_generate_ banyak bakteri di tiap jam (mulai dari jam ke-1) dengan banyak bakteri awal adalah `init` dan lama pengamatan `hour` (dalam jam). Misalnya:"
   ]
  },
  {
   "cell_type": "code",
   "execution_count": null,
   "metadata": {},
   "outputs": [],
   "source": [
    "for i in bakteri(100,4):\n",
    "    print(i)"
   ]
  },
  {
   "cell_type": "markdown",
   "metadata": {},
   "source": [
    "**Pada variabel jawaban_4, buatlah _list_ yang berisi banyak bakteri di setiap jam pada 10 jam pertama pengamatan. Diketahui banyak bakteri awal adalah 50 bakteri.**\\\n",
    "expected result = `[100, 200, 300, 600, 1200, 1800, 3600, 7200, 10800, 21600]`"
   ]
  },
  {
   "cell_type": "code",
   "execution_count": 4,
   "metadata": {},
   "outputs": [
    {
     "name": "stdout",
     "output_type": "stream",
     "text": [
      "[100, 200, 300, 600, 1200, 1800, 3600, 7200, 10800, 21600]\n"
     ]
    }
   ],
   "source": [
    "#lengkapi kode di bawah ini\n",
    "def bakteri(init, hour):\n",
    "    for i in range(1, hour+1):\n",
    "        if i % 3 != 0:\n",
    "            init *= 2\n",
    "            yield(init)\n",
    "        else:\n",
    "            init *= 2\n",
    "            init = init - 0.25*init\n",
    "            yield(init)\n",
    "\n",
    "jawaban_4 = [int(i) for i in bakteri(50,10)]\n",
    "print(jawaban_4)"
   ]
  },
  {
   "cell_type": "markdown",
   "metadata": {},
   "source": [
    "5. **SOAL EKSTRA. Tidak akan dinilai, namun silakan apabila ingin dikerjakan.**"
   ]
  },
  {
   "cell_type": "markdown",
   "metadata": {},
   "source": [
    "Buatlah _class_ `Time` yang merupakan waktu dalam satu hari dalam format 24 jam. `Time` memiliki dua atribut, `hour` dan `minute`, yang masing-masing adalah jam dan menit dari waktu tersebut. Contoh, `Time(1,0)` adalah jam 1:00, `Time(14,50)` adalah jam 14:50. `Time` memiliki beberapa _method_:\n",
    "* `__str__` : menampilkan waktu yang diinput. Tampilan diserahkan kepada Anda.\n",
    "* `__add__` : menambahkan dua waktu. Contoh: `Time(10,0) + Time(5,20) = Time(15,20)` (10:00 + 5:20 = 15:20)\n",
    "* `__sub__` : mengurangi dua waktu. Contoh: `Time(10,0) - Time(5,20) = Time(4,40)` (10:00 - 5:20 = 4:40)\n",
    "\n",
    "Jika Anda lupa cara menjumlahkan atau mengurangi dua waktu, silakan cari di Google.\\\n",
    "**Pertanyaan: Sebuah jam saat ini menunjukkan pukul 17:30. Seseorang iseng memutar-mutar jarum jam tersebut. Ia memutar mundur jam tersebut sebanyak 3 jam 51 menit, lalu memutar maju kembali jam tersebut sebanyak 1 jam 27 menit. Pukul berapa yang ditunjukkan jam tersebut sekarang? Tuliskan jawaban Anda di variabel jawaban_5.**"
   ]
  },
  {
   "cell_type": "code",
   "execution_count": 5,
   "metadata": {},
   "outputs": [
    {
     "name": "stdout",
     "output_type": "stream",
     "text": [
      "Now is 15:06.\n"
     ]
    }
   ],
   "source": [
    "class Time:\n",
    "    def __init__(self, hour, minute):\n",
    "        self.hour = hour\n",
    "        self.minute = minute\n",
    "        \n",
    "    def __str__(self):    \n",
    "        return 'Now is ' + str(self.hour) + ':' + str(self.minute).zfill(2) + '.'\n",
    "    \n",
    "    def __add__(self, other):\n",
    "        total_hour = self.hour + other.hour\n",
    "        total_minute = self.minute + other.minute\n",
    "        if total_minute >= 60:\n",
    "            total_minute -= 60\n",
    "            total_hour += 1\n",
    "        return Time(total_hour, total_minute)\n",
    "    \n",
    "    def __sub__(self, other):\n",
    "        total_minute = self.minute - other.minute\n",
    "        total_hour = self.hour - other.hour\n",
    "        if total_minute < 0:\n",
    "            total_minute += 60\n",
    "            total_hour -= 1\n",
    "        return Time(total_hour, total_minute)\n",
    "    \n",
    "jawaban_5 = Time(17,30) - Time(3,51) + Time(1,27)\n",
    "print(jawaban_5)"
   ]
  },
  {
   "cell_type": "code",
   "execution_count": null,
   "metadata": {},
   "outputs": [],
   "source": []
  }
 ],
 "metadata": {
  "kernelspec": {
   "display_name": "Python 3",
   "language": "python",
   "name": "python3"
  },
  "language_info": {
   "codemirror_mode": {
    "name": "ipython",
    "version": 3
   },
   "file_extension": ".py",
   "mimetype": "text/x-python",
   "name": "python",
   "nbconvert_exporter": "python",
   "pygments_lexer": "ipython3",
   "version": "3.8.3"
  }
 },
 "nbformat": 4,
 "nbformat_minor": 4
}
