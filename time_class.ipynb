{
 "cells": [
  {
   "cell_type": "markdown",
   "metadata": {},
   "source": [
    "### Time"
   ]
  },
  {
   "cell_type": "markdown",
   "metadata": {},
   "source": [
    "This code will show a class with several functions such as displaying the input time and adding or subtracting two times."
   ]
  },
  {
   "cell_type": "code",
   "execution_count": 1,
   "metadata": {},
   "outputs": [],
   "source": [
    "class Time:\n",
    "    def __init__(self, hour, minute):\n",
    "        self.hour = hour\n",
    "        self.minute = minute\n",
    "        \n",
    "    def __str__(self):    \n",
    "        return 'Now is ' + str(self.hour) + ':' + str(self.minute).zfill(2) + '.'\n",
    "    \n",
    "    def __add__(self, other):\n",
    "        total_hour = self.hour + other.hour\n",
    "        total_minute = self.minute + other.minute\n",
    "        if total_minute >= 60:\n",
    "            total_minute -= 60\n",
    "            total_hour += 1\n",
    "        return Time(total_hour, total_minute)\n",
    "    \n",
    "    def __sub__(self, other):\n",
    "        total_minute = self.minute - other.minute\n",
    "        total_hour = self.hour - other.hour\n",
    "        if total_minute < 0:\n",
    "            total_minute += 60\n",
    "            total_hour -= 1\n",
    "        return Time(total_hour, total_minute)"
   ]
  },
  {
   "cell_type": "code",
   "execution_count": 2,
   "metadata": {},
   "outputs": [
    {
     "name": "stdout",
     "output_type": "stream",
     "text": [
      "Now is 15:06.\n"
     ]
    }
   ],
   "source": [
    "time = Time(17,30) - Time(3,51) + Time(1,27)\n",
    "print(time)"
   ]
  },
  {
   "cell_type": "code",
   "execution_count": null,
   "metadata": {},
   "outputs": [],
   "source": []
  }
 ],
 "metadata": {
  "kernelspec": {
   "display_name": "Python 3",
   "language": "python",
   "name": "python3"
  },
  "language_info": {
   "codemirror_mode": {
    "name": "ipython",
    "version": 3
   },
   "file_extension": ".py",
   "mimetype": "text/x-python",
   "name": "python",
   "nbconvert_exporter": "python",
   "pygments_lexer": "ipython3",
   "version": "3.8.3"
  }
 },
 "nbformat": 4,
 "nbformat_minor": 4
}
